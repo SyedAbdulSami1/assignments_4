{
 "cells": [
  {
   "cell_type": "markdown",
   "id": "eff805d5",
   "metadata": {},
   "source": [
    "## 00_joke_bot.py"
   ]
  },
  {
   "cell_type": "code",
   "execution_count": 10,
   "id": "591f5c8e",
   "metadata": {},
   "outputs": [
    {
     "name": "stdout",
     "output_type": "stream",
     "text": [
      "Here is a joke for you! Sophia is heading out to the grocery store. A programmer tells her: get a liter of milk, and if they have eggs, get 12. Sophia returns with 13 liters of milk. The programmer asks why and Sophia replies: 'because they had eggs'\n"
     ]
    }
   ],
   "source": [
    "prompt: str = \"What do you want?\"\n",
    "joke: str = \"Here is a joke for you! Sophia is heading out to the grocery store. A programmer tells her: get a liter of milk, and if they have eggs, get 12. Sophia returns with 13 liters of milk. The programmer asks why and Sophia replies: 'because they had eggs'\"\n",
    "sorry: str = \"Sorry, I only tell only a joke.\"\n",
    "\n",
    "def joke_func():\n",
    "    user_input = input(prompt).strip().lower()\n",
    "    if \"joke\" in user_input:\n",
    "        print(joke)\n",
    "    else:\n",
    "        print(sorry)\n",
    "\n",
    "if __name__ == \"__main__\":\n",
    "    joke_func()"
   ]
  },
  {
   "cell_type": "markdown",
   "id": "fdca64ac",
   "metadata": {},
   "source": [
    "## 01_double_it"
   ]
  },
  {
   "cell_type": "code",
   "execution_count": 9,
   "id": "86ab1a83",
   "metadata": {},
   "outputs": [
    {
     "name": "stdout",
     "output_type": "stream",
     "text": [
      "4\n",
      "8\n",
      "16\n",
      "32\n",
      "64\n",
      "128\n"
     ]
    }
   ],
   "source": [
    "\n",
    "def main():\n",
    "    curr_value = int(input(\"Enger a number: \"))\n",
    "    while curr_value < 100:\n",
    "        curr_value = curr_value * 2\n",
    "        print(curr_value)\n",
    "\n",
    "if __name__ == \"__main__\":\n",
    "    main()"
   ]
  },
  {
   "cell_type": "markdown",
   "id": "d04b7b2b",
   "metadata": {},
   "source": [
    "## 02_liftoff"
   ]
  },
  {
   "cell_type": "code",
   "execution_count": 19,
   "id": "baacfb4b",
   "metadata": {},
   "outputs": [
    {
     "name": "stdout",
     "output_type": "stream",
     "text": [
      "10 9 8 7 6 5 4 3 2 1 Liftoff!\n"
     ]
    }
   ],
   "source": [
    "def liftoff():\n",
    "    \n",
    "    for i in range(10, 0, -1):\n",
    "        print(i, end=\" \")\n",
    "    print(\"Liftoff!\")\n",
    "\n",
    "if __name__ == \"__main__\":\n",
    "    liftoff()"
   ]
  },
  {
   "cell_type": "markdown",
   "id": "123f71a7",
   "metadata": {},
   "source": [
    "## 03_guess_my_number"
   ]
  },
  {
   "cell_type": "code",
   "execution_count": 22,
   "id": "81f4d464",
   "metadata": {},
   "outputs": [
    {
     "name": "stdout",
     "output_type": "stream",
     "text": [
      "I am thinking of a number between 0 and 99...\n",
      "Your guess is too high\n",
      "\n",
      "Your guess is too high\n",
      "\n",
      "Your guess is too high\n",
      "\n",
      "Congrats! The number was: 20\n"
     ]
    }
   ],
   "source": [
    "import random\n",
    "\n",
    "def guess_my_number():\n",
    "    number_to_guess = random.randint(0, 99)\n",
    "    print(\"I am thinking of a number between 0 and 99...\")\n",
    "    guess = int(input(\"Enter a guess: \"))\n",
    "    while guess != number_to_guess:\n",
    "        if guess < number_to_guess:\n",
    "            print(\"Your guess is too low\")\n",
    "        else:\n",
    "            print(\"Your guess is too high\")\n",
    "        print()\n",
    "        guess = int(input(\"Enter a new number: \"))\n",
    "    print(\"Congrats! The number was:\", number_to_guess)\n",
    "\n",
    "if __name__ == \"__main__\":\n",
    "    guess_my_number()"
   ]
  },
  {
   "cell_type": "markdown",
   "id": "4c0762d2",
   "metadata": {},
   "source": [
    "## 04_random_numbers"
   ]
  },
  {
   "cell_type": "code",
   "execution_count": 23,
   "id": "53307ea1",
   "metadata": {},
   "outputs": [
    {
     "name": "stdout",
     "output_type": "stream",
     "text": [
      "85 11 19 66 39 6 36 92 76 5 "
     ]
    }
   ],
   "source": [
    "import random\n",
    "\n",
    "N_NUMBERS: int = 10\n",
    "MIN_VALUE: int = 1\n",
    "MAX_VALUE: int = 100\n",
    "\n",
    "def main():\n",
    "    for i in range(N_NUMBERS):\n",
    "        random_number = random.randint(MIN_VALUE, MAX_VALUE)\n",
    "        print(random_number , end=\" \")\n",
    "\n",
    "if __name__ == '__main__':\n",
    "    main()"
   ]
  }
 ],
 "metadata": {
  "kernelspec": {
   "display_name": "Python 3",
   "language": "python",
   "name": "python3"
  },
  "language_info": {
   "codemirror_mode": {
    "name": "ipython",
    "version": 3
   },
   "file_extension": ".py",
   "mimetype": "text/x-python",
   "name": "python",
   "nbconvert_exporter": "python",
   "pygments_lexer": "ipython3",
   "version": "3.13.2"
  }
 },
 "nbformat": 4,
 "nbformat_minor": 5
}
