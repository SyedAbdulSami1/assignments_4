{
 "cells": [
  {
   "cell_type": "markdown",
   "id": "4c9d29df",
   "metadata": {},
   "source": [
    "## Mad libs Python Project"
   ]
  },
  {
   "cell_type": "code",
   "execution_count": 4,
   "id": "520e5bd6",
   "metadata": {},
   "outputs": [
    {
     "name": "stdout",
     "output_type": "stream",
     "text": [
      "Programming is so amazing! It makes me so excited all the time because I love to skydive. \n",
      "Stay hydrated and jump like you are Captain America!\n"
     ]
    }
   ],
   "source": [
    "adj = input(\"Adjective: \")\n",
    "verb1 = input(\"Verb 1: \")\n",
    "verb2 = input(\"Verb 2: \")\n",
    "famous_person = input(\"Famous Person: \")\n",
    "\n",
    "madlib = f\"Programming is so {adj}! It makes me so excited all the time because I love to {verb1}. \\nStay hydrated and {verb2} like you are {famous_person}!\"\n",
    "\n",
    "print(madlib)\n",
    "# adjective = amazing\n",
    "# Verb 1 = skydive\n",
    "# Verb 2 = jump\n",
    "# Famous Person = Captain America"
   ]
  }
 ],
 "metadata": {
  "kernelspec": {
   "display_name": "Python 3",
   "language": "python",
   "name": "python3"
  },
  "language_info": {
   "codemirror_mode": {
    "name": "ipython",
    "version": 3
   },
   "file_extension": ".py",
   "mimetype": "text/x-python",
   "name": "python",
   "nbconvert_exporter": "python",
   "pygments_lexer": "ipython3",
   "version": "3.13.2"
  }
 },
 "nbformat": 4,
 "nbformat_minor": 5
}
