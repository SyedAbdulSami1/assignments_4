{
 "cells": [
  {
   "cell_type": "code",
   "execution_count": 1,
   "id": "1bcce1c1",
   "metadata": {},
   "outputs": [
    {
     "name": "stdout",
     "output_type": "stream",
     "text": [
      "School can be amazing, but if you jumping daily and \n",
      "running like Iron Man, you’ll enjoy learning!\n"
     ]
    }
   ],
   "source": [
    "from sample_madlibs import adventure, motivation, programming, school\n",
    "import random\n",
    "\n",
    "if __name__ == \"__main__\":\n",
    "    m = random.choice([adventure, motivation, programming, school])\n",
    "    m.madlib()"
   ]
  }
 ],
 "metadata": {
  "kernelspec": {
   "display_name": "Python 3",
   "language": "python",
   "name": "python3"
  },
  "language_info": {
   "codemirror_mode": {
    "name": "ipython",
    "version": 3
   },
   "file_extension": ".py",
   "mimetype": "text/x-python",
   "name": "python",
   "nbconvert_exporter": "python",
   "pygments_lexer": "ipython3",
   "version": "3.13.2"
  }
 },
 "nbformat": 4,
 "nbformat_minor": 5
}
