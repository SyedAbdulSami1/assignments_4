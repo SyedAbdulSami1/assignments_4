{
 "cells": [
  {
   "cell_type": "markdown",
   "id": "c70a914b",
   "metadata": {},
   "source": [
    "## Guess the Number Game Python Project (computer)\n",
    "In this Kylie Ying tutorial, you will learn how to work with Python's random module, build functions, work with while loops and conditionals, and get user input."
   ]
  },
  {
   "cell_type": "code",
   "execution_count": 2,
   "id": "c1f0cc9a",
   "metadata": {},
   "outputs": [
    {
     "name": "stdout",
     "output_type": "stream",
     "text": [
      "Sorry, guess again. Too Low.\n",
      "Yay, congrats. You guessed the number 9 correctly!\n"
     ]
    }
   ],
   "source": [
    "import random\n",
    "\n",
    "def guess (x):\n",
    "    random_number = random.randint(1, x)\n",
    "    guess = 0\n",
    "    while guess != random_number:\n",
    "        guess = int(input(f\"Guess a number between 1 and {x}: \"))\n",
    "        if guess < random_number:\n",
    "            print(\"Sorry, guess again. Too Low.\")\n",
    "        elif guess > random_number:\n",
    "            print(\"Sorry, guess again. Too High.\")\n",
    "    print(f\"Yay, congrats. You guessed the number {random_number} correctly!\")\n",
    "\n",
    "guess(10)"
   ]
  }
 ],
 "metadata": {
  "kernelspec": {
   "display_name": "Python 3",
   "language": "python",
   "name": "python3"
  },
  "language_info": {
   "codemirror_mode": {
    "name": "ipython",
    "version": 3
   },
   "file_extension": ".py",
   "mimetype": "text/x-python",
   "name": "python",
   "nbconvert_exporter": "python",
   "pygments_lexer": "ipython3",
   "version": "3.13.2"
  }
 },
 "nbformat": 4,
 "nbformat_minor": 5
}
