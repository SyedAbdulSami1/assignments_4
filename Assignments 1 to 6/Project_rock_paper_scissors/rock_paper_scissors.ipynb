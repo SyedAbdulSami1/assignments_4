{
 "cells": [
  {
   "cell_type": "markdown",
   "id": "cdb61285",
   "metadata": {},
   "source": [
    "## Rock, paper, scissors Python Project\n",
    "you will work with random.choice(), if statements, and getting user input. This is a great project to help you build on the fundamentals like conditionals and functions."
   ]
  },
  {
   "cell_type": "code",
   "execution_count": 10,
   "id": "7ca52296",
   "metadata": {},
   "outputs": [
    {
     "name": "stdout",
     "output_type": "stream",
     "text": [
      "You won!\n"
     ]
    }
   ],
   "source": [
    "import random\n",
    "\n",
    "def play():\n",
    "    user = input(\"What's your choice? 'r' for rock, 'p' for paper, 's' for scissors\\n\")\n",
    "    computer = random.choice([\"r\", \"p\", \"s\"])\n",
    "\n",
    "# r > s, s > p, p > r\n",
    "\n",
    "    if user == computer:\n",
    "        return print(\"It's a tie!\")\n",
    "    else:\n",
    "        if (user == \"r\" and computer == \"s\") or (user == \"s\" and computer == \"P\") or (user == \"p\" and computer == \"r\"):\n",
    "            return print(\"You won!\")\n",
    "        else:\n",
    "            return print(\"You lost!\")\n",
    "\n",
    "if __name__ == \"__main__\":\n",
    "    play()"
   ]
  }
 ],
 "metadata": {
  "kernelspec": {
   "display_name": "Python 3",
   "language": "python",
   "name": "python3"
  },
  "language_info": {
   "codemirror_mode": {
    "name": "ipython",
    "version": 3
   },
   "file_extension": ".py",
   "mimetype": "text/x-python",
   "name": "python",
   "nbconvert_exporter": "python",
   "pygments_lexer": "ipython3",
   "version": "3.13.2"
  }
 },
 "nbformat": 4,
 "nbformat_minor": 5
}
