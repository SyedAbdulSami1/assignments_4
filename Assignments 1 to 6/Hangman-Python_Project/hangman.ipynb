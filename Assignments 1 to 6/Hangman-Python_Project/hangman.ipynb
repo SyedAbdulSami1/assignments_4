{
 "cells": [
  {
   "cell_type": "code",
   "execution_count": null,
   "id": "57f1ddd7",
   "metadata": {},
   "outputs": [
    {
     "ename": "NameError",
     "evalue": "name 'livess' is not defined",
     "output_type": "error",
     "traceback": [
      "\u001b[31m---------------------------------------------------------------------------\u001b[39m",
      "\u001b[31mNameError\u001b[39m                                 Traceback (most recent call last)",
      "\u001b[36mCell\u001b[39m\u001b[36m \u001b[39m\u001b[32mIn[1]\u001b[39m\u001b[32m, line 60\u001b[39m\n\u001b[32m     56\u001b[39m         \u001b[38;5;28mprint\u001b[39m(\u001b[33m'\u001b[39m\u001b[33mYAY! You guessed the word\u001b[39m\u001b[33m'\u001b[39m, word, \u001b[33m'\u001b[39m\u001b[33m!!\u001b[39m\u001b[33m'\u001b[39m)\n\u001b[32m     59\u001b[39m \u001b[38;5;28;01mif\u001b[39;00m \u001b[34m__name__\u001b[39m == \u001b[33m'\u001b[39m\u001b[33m__main__\u001b[39m\u001b[33m'\u001b[39m:\n\u001b[32m---> \u001b[39m\u001b[32m60\u001b[39m     \u001b[43mhangman\u001b[49m\u001b[43m(\u001b[49m\u001b[43m)\u001b[49m\n",
      "\u001b[36mCell\u001b[39m\u001b[36m \u001b[39m\u001b[32mIn[1]\u001b[39m\u001b[32m, line 24\u001b[39m, in \u001b[36mhangman\u001b[39m\u001b[34m()\u001b[39m\n\u001b[32m     21\u001b[39m lives = \u001b[32m7\u001b[39m\n\u001b[32m     23\u001b[39m \u001b[38;5;66;03m# getting user input\u001b[39;00m\n\u001b[32m---> \u001b[39m\u001b[32m24\u001b[39m \u001b[38;5;28;01mwhile\u001b[39;00m \u001b[38;5;28mlen\u001b[39m(word_letters) > \u001b[32m0\u001b[39m \u001b[38;5;129;01mand\u001b[39;00m \u001b[43mlivess\u001b[49m > \u001b[32m0\u001b[39m:\n\u001b[32m     25\u001b[39m     \u001b[38;5;66;03m# letters used\u001b[39;00m\n\u001b[32m     26\u001b[39m     \u001b[38;5;66;03m# ' '.join(['a', 'b', 'cd']) --> 'a b cd'\u001b[39;00m\n\u001b[32m     27\u001b[39m     \u001b[38;5;28mprint\u001b[39m(\u001b[33m'\u001b[39m\u001b[33mYou have\u001b[39m\u001b[33m'\u001b[39m, lives, \u001b[33m'\u001b[39m\u001b[33mlives left and you have used these letters: \u001b[39m\u001b[33m'\u001b[39m, \u001b[33m'\u001b[39m\u001b[33m \u001b[39m\u001b[33m'\u001b[39m.join(used_letters))\n\u001b[32m     29\u001b[39m     \u001b[38;5;66;03m# what current word is (ie W - R D)\u001b[39;00m\n",
      "\u001b[31mNameError\u001b[39m: name 'livess' is not defined"
     ]
    }
   ],
   "source": [
    "import random\n",
    "from words import words\n",
    "from hangman_visual import lives_visual_dict\n",
    "import string\n",
    "\n",
    "def get_valid_word(words):\n",
    "    word = random.choice(words)\n",
    "    while \"-\" in word or \" \" in word:\n",
    "       \n",
    "        word = random.choice(words)\n",
    "    \n",
    "    \n",
    "    return word.upper()\n",
    "\n",
    "def hangman():\n",
    "    word = get_valid_word(words)\n",
    "    word_letters = set(word)  # letters in the word\n",
    "    alphabet = set(string.ascii_uppercase)\n",
    "    used_letters = set()  # what the user has guessed\n",
    "\n",
    "    lives = 7\n",
    "\n",
    "    # getting user input\n",
    "    while len(word_letters) > 0 and lives > 0:\n",
    "        # letters used\n",
    "        # ' '.join(['a', 'b', 'cd']) --> 'a b cd'\n",
    "        print('You have', lives, 'lives left and you have used these letters: ', ' '.join(used_letters))\n",
    "\n",
    "        # what current word is (ie W - R D)\n",
    "        word_list = [letter if letter in used_letters else '-' for letter in word]\n",
    "        print(lives_visual_dict[lives])\n",
    "        print('Current word: ', ' '.join(word_list))\n",
    "\n",
    "        user_letter = input('Guess a letter: ').upper()\n",
    "        if user_letter in alphabet - used_letters:\n",
    "            used_letters.add(user_letter)\n",
    "            if user_letter in word_letters:\n",
    "                word_letters.remove(user_letter)\n",
    "                print('')\n",
    "\n",
    "            else:\n",
    "                lives = lives - 1  # takes away a life if wrong\n",
    "                print('\\nYour letter,', user_letter, 'is not in the word.')\n",
    "\n",
    "        elif user_letter in used_letters:\n",
    "            print('\\nYou have already used that letter. Guess another letter.')\n",
    "\n",
    "        else:\n",
    "            print('\\nThat is not a valid letter.')\n",
    "\n",
    "    # gets here when len(word_letters) == 0 OR when lives == 0\n",
    "    if lives == 0:\n",
    "        print(lives_visual_dict[lives])\n",
    "        print('You died, sorry. The word was', word)\n",
    "    else:\n",
    "        print('YAY! You guessed the word', word, '!!')\n",
    "\n",
    "\n",
    "if __name__ == '__main__':\n",
    "    hangman()"
   ]
  }
 ],
 "metadata": {
  "kernelspec": {
   "display_name": "Python 3",
   "language": "python",
   "name": "python3"
  },
  "language_info": {
   "codemirror_mode": {
    "name": "ipython",
    "version": 3
   },
   "file_extension": ".py",
   "mimetype": "text/x-python",
   "name": "python",
   "nbconvert_exporter": "python",
   "pygments_lexer": "ipython3",
   "version": "3.13.2"
  }
 },
 "nbformat": 4,
 "nbformat_minor": 5
}
