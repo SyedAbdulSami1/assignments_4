{
 "cells": [
  {
   "cell_type": "markdown",
   "id": "c26eb810",
   "metadata": {},
   "source": [
    "## Project 6 Countdown Timer Python Project"
   ]
  },
  {
   "cell_type": "markdown",
   "id": "19767f10",
   "metadata": {},
   "source": [
    "you will learn how to build a countdown timer using the time Python module. This is a great beginner project to get you used to working with while loops in Python."
   ]
  },
  {
   "cell_type": "code",
   "execution_count": 1,
   "id": "8a3c20c3",
   "metadata": {},
   "outputs": [
    {
     "name": "stdout",
     "output_type": "stream",
     "text": [
      "Timer completed!\n"
     ]
    }
   ],
   "source": [
    "import time\n",
    "\n",
    "def countdown(t):\n",
    "    while t:\n",
    "        mins, secs = divmod(t, 60)\n",
    "        timer = '{:02d}:{:02d}'.format(mins, secs)\n",
    "        print(timer, end=\"\\r\")\n",
    "        time.sleep(1)\n",
    "        t -= 1\n",
    "    print(\"Timer completed!\")\n",
    "\n",
    "t = input(\"Enter the time in seconds: \")\n",
    "\n",
    "countdown(int(t))\n",
    "\n"
   ]
  }
 ],
 "metadata": {
  "kernelspec": {
   "display_name": "Python 3",
   "language": "python",
   "name": "python3"
  },
  "language_info": {
   "codemirror_mode": {
    "name": "ipython",
    "version": 3
   },
   "file_extension": ".py",
   "mimetype": "text/x-python",
   "name": "python",
   "nbconvert_exporter": "python",
   "pygments_lexer": "ipython3",
   "version": "3.13.2"
  }
 },
 "nbformat": 4,
 "nbformat_minor": 5
}
